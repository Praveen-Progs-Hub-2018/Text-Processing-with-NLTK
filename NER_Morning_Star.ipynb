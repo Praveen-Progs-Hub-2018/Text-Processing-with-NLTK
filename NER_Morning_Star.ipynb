{
  "nbformat": 4,
  "nbformat_minor": 0,
  "metadata": {
    "colab": {
      "name": "NER_Morning_Star.ipynb",
      "provenance": [],
      "collapsed_sections": [],
      "authorship_tag": "ABX9TyMJH+5S4ISUC7StD0/SlOM6",
      "include_colab_link": true
    },
    "kernelspec": {
      "name": "python3",
      "display_name": "Python 3"
    },
    "language_info": {
      "name": "python"
    }
  },
  "cells": [
    {
      "cell_type": "markdown",
      "metadata": {
        "id": "view-in-github",
        "colab_type": "text"
      },
      "source": [
        "<a href=\"https://colab.research.google.com/github/Praveen-Progs-Hub-2018/Text-Processing-with-NLTK/blob/master/NER_Morning_Star.ipynb\" target=\"_parent\"><img src=\"https://colab.research.google.com/assets/colab-badge.svg\" alt=\"Open In Colab\"/></a>"
      ]
    },
    {
      "cell_type": "code",
      "metadata": {
        "colab": {
          "base_uri": "https://localhost:8080/",
          "height": 35
        },
        "id": "v3VKs1cUBsGI",
        "outputId": "d2b8def5-b7c2-4cb7-b79f-3077b14b07d4"
      },
      "source": [
        "\"\"\"\n",
        "Email = praveenkumar.3it@gmail.com\n",
        "Date  = 28-Aug-2021\n",
        "\"\"\""
      ],
      "execution_count": 93,
      "outputs": [
        {
          "output_type": "execute_result",
          "data": {
            "application/vnd.google.colaboratory.intrinsic+json": {
              "type": "string"
            },
            "text/plain": [
              "'\\nEmail = praveenkumar.3it@gmail.com\\nDate  = 28-Aug-2021\\n'"
            ]
          },
          "metadata": {},
          "execution_count": 93
        }
      ]
    },
    {
      "cell_type": "markdown",
      "metadata": {
        "id": "c4Ljn4G0yx4F"
      },
      "source": [
        "## Import libraries"
      ]
    },
    {
      "cell_type": "code",
      "metadata": {
        "id": "3i_yIUXNowKf"
      },
      "source": [
        "%matplotlib inline\n",
        "import matplotlib.pyplot as plt\n",
        "import pandas as pd\n",
        "import numpy as np"
      ],
      "execution_count": 1,
      "outputs": []
    },
    {
      "cell_type": "code",
      "metadata": {
        "id": "62WOb4A8sOCt"
      },
      "source": [
        "class Utility():\n",
        "  \"\"\"  This Class is useful to adpat the Train or Test or Eval Datasets to do the common data pre-processing be train/test/eval \"\"\"\n",
        "  \n",
        "  def __init__(self,train_file_path,train_tag_file_path):\n",
        "    self.train_file_path = train_file_path\n",
        "    self.train_tag_file_path = train_tag_file_path\n",
        "\n",
        "  def load_input_train_files(self):\n",
        "    \"\"\"  load_input_train_files \"\"\"\n",
        "\n",
        "    file_1 = open(self.train_file_path, mode= 'r+', encoding='utf-8')\n",
        "    file_2 = open(self.train_tag_file_path, mode= 'r+', encoding='utf-8')\n",
        "\n",
        "    texts = [ i.rstrip() for i in file_1.readlines()]\n",
        "    tags  = [ i.rstrip() for i in file_2.readlines()]\n",
        "    return texts,tags\n",
        "\n",
        "  def get_Prep_Dataframe(self,texts,tags):\n",
        "    \"\"\" prepare the data \"\"\"\n",
        "    \n",
        "    sentences = []\n",
        "    for index in range(len(texts)):\n",
        "      sent_1 = texts[index].split()\n",
        "      sent_2 = tags[index].split()\n",
        "      for i in range(len(sent_1)):\n",
        "        sentences.append([index,sent_1[i],sent_2[i]])\n",
        "    data = pd.DataFrame(data=sentences, columns=['Id','word','label' ])\n",
        "    return data\n",
        "\n",
        "  def prep_ListOf_Tuplesof_TokenTags(self, df):\n",
        "\n",
        "    \"\"\" prep_ListOf_Tuplesof_TokenTags \"\"\"\n",
        "\n",
        "    goupby_sent_func = lambda param: [(w,  l) for w, l in zip(param[\"word\"].values.tolist(),param[\"label\"].values.tolist())]\n",
        "    grouped = df.groupby(\"Id\").apply(goupby_sent_func)\n",
        "    sentences = [group for group in grouped]\n",
        "    return sentences"
      ],
      "execution_count": 2,
      "outputs": []
    },
    {
      "cell_type": "markdown",
      "metadata": {
        "id": "PakHADVCzBtU"
      },
      "source": [
        "<h4>  Config Params for the client side code</h4>\n",
        "This is will helps the user to navigate the code to run from his local file paths"
      ]
    },
    {
      "cell_type": "code",
      "metadata": {
        "id": "BnxeN3WCy7Cq"
      },
      "source": [
        "train_file_path     = \"eng_train.txt\"\n",
        "train_tag_file_path = \"eng_train_tag.txt\"\n",
        "test_file_path     = \"eng_test.txt\"\n",
        "test_tag_file_path = \"eng_test_tag.txt\""
      ],
      "execution_count": null,
      "outputs": []
    },
    {
      "cell_type": "markdown",
      "metadata": {
        "id": "ptMSbPPpzgc0"
      },
      "source": [
        "## Load the Files , PreProcess it"
      ]
    },
    {
      "cell_type": "code",
      "metadata": {
        "id": "a9JUstaXlJGO",
        "colab": {
          "base_uri": "https://localhost:8080/",
          "height": 204
        },
        "outputId": "143a4f5b-ec2f-47c4-fb00-8dfd85bc6b39"
      },
      "source": [
        "util        = Utility(train_file_path,train_tag_file_path)\n",
        "texts,tags  = util.load_input_train_files()\n",
        "data        = util.get_Prep_Dataframe(texts,tags)\n",
        "data.head(5)"
      ],
      "execution_count": 75,
      "outputs": [
        {
          "output_type": "execute_result",
          "data": {
            "text/html": [
              "<div>\n",
              "<style scoped>\n",
              "    .dataframe tbody tr th:only-of-type {\n",
              "        vertical-align: middle;\n",
              "    }\n",
              "\n",
              "    .dataframe tbody tr th {\n",
              "        vertical-align: top;\n",
              "    }\n",
              "\n",
              "    .dataframe thead th {\n",
              "        text-align: right;\n",
              "    }\n",
              "</style>\n",
              "<table border=\"1\" class=\"dataframe\">\n",
              "  <thead>\n",
              "    <tr style=\"text-align: right;\">\n",
              "      <th></th>\n",
              "      <th>Id</th>\n",
              "      <th>word</th>\n",
              "      <th>label</th>\n",
              "    </tr>\n",
              "  </thead>\n",
              "  <tbody>\n",
              "    <tr>\n",
              "      <th>0</th>\n",
              "      <td>0</td>\n",
              "      <td>EU</td>\n",
              "      <td>B-ORG</td>\n",
              "    </tr>\n",
              "    <tr>\n",
              "      <th>1</th>\n",
              "      <td>0</td>\n",
              "      <td>rejects</td>\n",
              "      <td>O</td>\n",
              "    </tr>\n",
              "    <tr>\n",
              "      <th>2</th>\n",
              "      <td>0</td>\n",
              "      <td>German</td>\n",
              "      <td>B-MISC</td>\n",
              "    </tr>\n",
              "    <tr>\n",
              "      <th>3</th>\n",
              "      <td>0</td>\n",
              "      <td>call</td>\n",
              "      <td>O</td>\n",
              "    </tr>\n",
              "    <tr>\n",
              "      <th>4</th>\n",
              "      <td>0</td>\n",
              "      <td>to</td>\n",
              "      <td>O</td>\n",
              "    </tr>\n",
              "  </tbody>\n",
              "</table>\n",
              "</div>"
            ],
            "text/plain": [
              "   Id     word   label\n",
              "0   0       EU   B-ORG\n",
              "1   0  rejects       O\n",
              "2   0   German  B-MISC\n",
              "3   0     call       O\n",
              "4   0       to       O"
            ]
          },
          "metadata": {},
          "execution_count": 75
        }
      ]
    },
    {
      "cell_type": "markdown",
      "metadata": {
        "id": "bmxgmtVNOXBV"
      },
      "source": [
        "So far we are loaded the text train data and tags data. later we mapped both of them respectively. \n",
        "\n",
        "For example \"EU rejects German call to boycott British lamb .\" is mapped to correspoinding tags that is, B-ORG O B-MISC O O O B-MISC O O\n",
        "\n",
        "\n",
        "Later we created the Id column which is unique to each document. Also after the get_Prep_Dataframe we will be able to see a data frame with each row represents a word in the text its respective taged lable.\n"
      ]
    },
    {
      "cell_type": "code",
      "metadata": {
        "colab": {
          "base_uri": "https://localhost:8080/"
        },
        "id": "vaXH_Mmom2fg",
        "outputId": "7f107b92-6991-4cc1-e5c2-25447928a539"
      },
      "source": [
        "print(\"Unique words in corpus:\", data['word'].nunique())\n",
        "print(\"Unique labels in corpus:\", data['label'].nunique())\n",
        "\n",
        "words = list(set(data[\"word\"].values))\n",
        "words.append(\"ENDPAD\")\n",
        "num_words = len(words)\n",
        "\n",
        "labels = list(set(data[\"label\"].values))\n",
        "num_label = len(labels)\n",
        "\n",
        "print(\" No. Of   Words   : \",num_words)\n",
        "print(\" No. Of   Labels  : \", num_label)"
      ],
      "execution_count": 4,
      "outputs": [
        {
          "output_type": "stream",
          "text": [
            "Unique words in corpus: 23623\n",
            "Unique labels in corpus: 9\n",
            " No. Of   Words   :  23624\n",
            " No. Of   Labels  :  9\n"
          ],
          "name": "stdout"
        }
      ]
    },
    {
      "cell_type": "markdown",
      "metadata": {
        "id": "HT7LFOT-Qwhd"
      },
      "source": [
        "Total No.of unique words in the corpus is 23623 and the 9 unique labels tagged\n",
        "\n",
        "Now, lets create the golbals dictionaries for text and tags seperately which yeils a unique number for each text,tag as the dictionary keys.\n",
        "\n",
        "This will be latere user to create the X ,Y data "
      ]
    },
    {
      "cell_type": "code",
      "metadata": {
        "id": "-1TYMShxlfEr"
      },
      "source": [
        "sentences = util.prep_ListOf_Tuplesof_TokenTags(data.copy())\n",
        "word2idx  = {w: i + 1 for i, w in enumerate(words)}\n",
        "label2idx = {l: i for i,l in enumerate(labels)}"
      ],
      "execution_count": 5,
      "outputs": []
    },
    {
      "cell_type": "markdown",
      "metadata": {
        "id": "YE5v1a3DGb2R"
      },
      "source": [
        "# <h3>Analyze the data to Fix Max Lenth of the your X-Vector Size"
      ]
    },
    {
      "cell_type": "code",
      "metadata": {
        "colab": {
          "base_uri": "https://localhost:8080/",
          "height": 400
        },
        "id": "9029B3MrzrcE",
        "outputId": "a63988ff-7367-4bbb-98c8-db2378174e18"
      },
      "source": [
        "d={}\n",
        "for s in sentences:\n",
        "  if len(s) not in d.keys():\n",
        "      d[len(s)]  = 1\n",
        "  else:\n",
        "        d[len(s)] +=1\n",
        "\n",
        "sent_len_df = pd.DataFrame([len(s) for s in sentences],columns=['sent_len'])#,columns=['Sent_len','Freq'])\n",
        "sent_len_df['sent_len'].value_counts()[:].plot(kind='bar', figsize=(20,6))"
      ],
      "execution_count": 6,
      "outputs": [
        {
          "output_type": "execute_result",
          "data": {
            "text/plain": [
              "<matplotlib.axes._subplots.AxesSubplot at 0x7f70f81a69d0>"
            ]
          },
          "metadata": {},
          "execution_count": 6
        },
        {
          "output_type": "display_data",
          "data": {
            "image/png": "[encoded data removed]",
            "text/plain": [
              "<Figure size 1440x432 with 1 Axes>"
            ]
          },
          "metadata": {
            "needs_background": "light"
          }
        }
      ]
    },
    {
      "cell_type": "markdown",
      "metadata": {
        "id": "OEFRwynOVVYd"
      },
      "source": [
        "After ploting the unique document lenght and its frequency of documnets we got see the number document greater than 50 lenghth is almost in single digits.\n",
        "\n",
        "So to avoid the sparsity of the X data in later secions we can fix the max token size 50."
      ]
    },
    {
      "cell_type": "code",
      "metadata": {
        "colab": {
          "base_uri": "https://localhost:8080/",
          "height": 514
        },
        "id": "ty6oZerO3GgE",
        "outputId": "d49be15e-b999-4e45-d785-eac39cbe1a5a"
      },
      "source": [
        "sent_len_df = pd.DataFrame(list(d.items()),columns=['sent_len','docs_count'])#,columns=['Sent_len','Freq'])\n",
        "sent_len_df = sent_len_df.sort_values('sent_len')\n",
        "sent_len_df.tail(15)"
      ],
      "execution_count": 7,
      "outputs": [
        {
          "output_type": "execute_result",
          "data": {
            "text/html": [
              "<div>\n",
              "<style scoped>\n",
              "    .dataframe tbody tr th:only-of-type {\n",
              "        vertical-align: middle;\n",
              "    }\n",
              "\n",
              "    .dataframe tbody tr th {\n",
              "        vertical-align: top;\n",
              "    }\n",
              "\n",
              "    .dataframe thead th {\n",
              "        text-align: right;\n",
              "    }\n",
              "</style>\n",
              "<table border=\"1\" class=\"dataframe\">\n",
              "  <thead>\n",
              "    <tr style=\"text-align: right;\">\n",
              "      <th></th>\n",
              "      <th>sent_len</th>\n",
              "      <th>docs_count</th>\n",
              "    </tr>\n",
              "  </thead>\n",
              "  <tbody>\n",
              "    <tr>\n",
              "      <th>46</th>\n",
              "      <td>50</td>\n",
              "      <td>15</td>\n",
              "    </tr>\n",
              "    <tr>\n",
              "      <th>51</th>\n",
              "      <td>51</td>\n",
              "      <td>10</td>\n",
              "    </tr>\n",
              "    <tr>\n",
              "      <th>43</th>\n",
              "      <td>52</td>\n",
              "      <td>11</td>\n",
              "    </tr>\n",
              "    <tr>\n",
              "      <th>56</th>\n",
              "      <td>53</td>\n",
              "      <td>3</td>\n",
              "    </tr>\n",
              "    <tr>\n",
              "      <th>48</th>\n",
              "      <td>54</td>\n",
              "      <td>4</td>\n",
              "    </tr>\n",
              "    <tr>\n",
              "      <th>57</th>\n",
              "      <td>55</td>\n",
              "      <td>5</td>\n",
              "    </tr>\n",
              "    <tr>\n",
              "      <th>60</th>\n",
              "      <td>56</td>\n",
              "      <td>1</td>\n",
              "    </tr>\n",
              "    <tr>\n",
              "      <th>53</th>\n",
              "      <td>57</td>\n",
              "      <td>3</td>\n",
              "    </tr>\n",
              "    <tr>\n",
              "      <th>52</th>\n",
              "      <td>58</td>\n",
              "      <td>2</td>\n",
              "    </tr>\n",
              "    <tr>\n",
              "      <th>61</th>\n",
              "      <td>59</td>\n",
              "      <td>2</td>\n",
              "    </tr>\n",
              "    <tr>\n",
              "      <th>54</th>\n",
              "      <td>60</td>\n",
              "      <td>2</td>\n",
              "    </tr>\n",
              "    <tr>\n",
              "      <th>58</th>\n",
              "      <td>62</td>\n",
              "      <td>2</td>\n",
              "    </tr>\n",
              "    <tr>\n",
              "      <th>63</th>\n",
              "      <td>67</td>\n",
              "      <td>1</td>\n",
              "    </tr>\n",
              "    <tr>\n",
              "      <th>59</th>\n",
              "      <td>78</td>\n",
              "      <td>1</td>\n",
              "    </tr>\n",
              "    <tr>\n",
              "      <th>62</th>\n",
              "      <td>113</td>\n",
              "      <td>1</td>\n",
              "    </tr>\n",
              "  </tbody>\n",
              "</table>\n",
              "</div>"
            ],
            "text/plain": [
              "    sent_len  docs_count\n",
              "46        50          15\n",
              "51        51          10\n",
              "43        52          11\n",
              "56        53           3\n",
              "48        54           4\n",
              "57        55           5\n",
              "60        56           1\n",
              "53        57           3\n",
              "52        58           2\n",
              "61        59           2\n",
              "54        60           2\n",
              "58        62           2\n",
              "63        67           1\n",
              "59        78           1\n",
              "62       113           1"
            ]
          },
          "metadata": {},
          "execution_count": 7
        }
      ]
    },
    {
      "cell_type": "markdown",
      "metadata": {
        "id": "O8n4OEEOJojA"
      },
      "source": [
        "# <H1>Prepare (X,Y)"
      ]
    },
    {
      "cell_type": "markdown",
      "metadata": {
        "id": "gt_wgevDXg_h"
      },
      "source": [
        "Senstecne variable is the list of tupulse word, its tagged label \n",
        "\n",
        "We will retrive the each word from every tuple later we will pull its correspoinding the numerical values from the word-gloabal dict \n",
        "\n",
        "The same way we will retrive the each tag-label from every tuple later we will pull its correspoinding the numerical values from the label-gloabal dict \n",
        "\n"
      ]
    },
    {
      "cell_type": "code",
      "metadata": {
        "id": "GaFbvVfq3psV"
      },
      "source": [
        "from tensorflow.keras.preprocessing.sequence import pad_sequences\n",
        "from sklearn.model_selection import train_test_split\n",
        "\n",
        "max_len = 50\n",
        "X = [[word2idx[w[0]] for w in s] for s in sentences]\n",
        "X = pad_sequences(maxlen=max_len, sequences=X, padding=\"post\", value=num_words-1)\n",
        "y = [[label2idx[w[1]] for w in s] for s in sentences]\n",
        "y = pad_sequences(maxlen=max_len, sequences=y, padding=\"post\", value=label2idx[\"O\"])\n",
        "x_train, x_test, y_train, y_test = train_test_split(X, y, test_size=0.2, random_state=1)\n"
      ],
      "execution_count": 8,
      "outputs": []
    },
    {
      "cell_type": "markdown",
      "metadata": {
        "id": "2BUuco-FZbGo"
      },
      "source": [
        "<h4> Prepared the X and Y</h4>\n",
        "\n",
        "\n",
        "<html><font color='red'\n",
        "\n",
        "X  = will looks like \n",
        "\n",
        "array([18706,   642, 22099, 23385,  7330, 21151,  9721, 15224, 10951,\n",
        "       23623, 23623, 23623, 23623, 23623, 23623, 23623, 23623, 23623,\n",
        "       23623, 23623, 23623, 23623, 23623, 23623, 23623, 23623, 23623,\n",
        "       23623, 23623, 23623, 23623, 23623, 23623, 23623, 23623, 23623,\n",
        "       23623, 23623, 23623, 23623, 23623, 23623, 23623, 23623, 23623,\n",
        "       23623, 23623, 23623, 23623, 23623], dtype=int32) \n",
        "></html>\n",
        "<html><font color ='blue'\n",
        "\n",
        "y =  will looks like \n",
        "\n",
        "array([1, 2, 4, 2, 2, 2, 4, 2, 2, 2, 2, 2, 2, 2, 2, 2, 2, 2, 2, 2, 2, 2,\n",
        "       2, 2, 2, 2, 2, 2, 2, 2, 2, 2, 2, 2, 2, 2, 2, 2, 2, 2, 2, 2, 2, 2,\n",
        "       2, 2, 2, 2, 2, 2], dtype=int32)\n",
        "\n",
        "\n",
        "We Aslo splitted the datapoins 80:20 for training and testing respectively\n",
        "\n",
        "</font>\n",
        "\n"
      ]
    },
    {
      "cell_type": "markdown",
      "metadata": {
        "id": "ddglS8w97zIG"
      },
      "source": [
        "**Modeling**"
      ]
    },
    {
      "cell_type": "code",
      "metadata": {
        "id": "5n_I-Kvz-MEe",
        "colab": {
          "base_uri": "https://localhost:8080/"
        },
        "outputId": "472575a4-7776-4acb-e098-f5a067ed83aa"
      },
      "source": [
        "!pip install livelossplot==0.5.2"
      ],
      "execution_count": 9,
      "outputs": [
        {
          "output_type": "stream",
          "text": [
            "Requirement already satisfied: livelossplot==0.5.2 in /usr/local/lib/python3.7/dist-packages (0.5.2)\n",
            "Requirement already satisfied: ipython in /usr/local/lib/python3.7/dist-packages (from livelossplot==0.5.2) (5.5.0)\n",
            "Requirement already satisfied: matplotlib in /usr/local/lib/python3.7/dist-packages (from livelossplot==0.5.2) (3.2.2)\n",
            "Requirement already satisfied: bokeh in /usr/local/lib/python3.7/dist-packages (from livelossplot==0.5.2) (2.3.3)\n",
            "Requirement already satisfied: numpy>=1.11.3 in /usr/local/lib/python3.7/dist-packages (from bokeh->livelossplot==0.5.2) (1.19.5)\n",
            "Requirement already satisfied: python-dateutil>=2.1 in /usr/local/lib/python3.7/dist-packages (from bokeh->livelossplot==0.5.2) (2.8.2)\n",
            "Requirement already satisfied: typing-extensions>=3.7.4 in /usr/local/lib/python3.7/dist-packages (from bokeh->livelossplot==0.5.2) (3.7.4.3)\n",
            "Requirement already satisfied: tornado>=5.1 in /usr/local/lib/python3.7/dist-packages (from bokeh->livelossplot==0.5.2) (5.1.1)\n",
            "Requirement already satisfied: PyYAML>=3.10 in /usr/local/lib/python3.7/dist-packages (from bokeh->livelossplot==0.5.2) (3.13)\n",
            "Requirement already satisfied: packaging>=16.8 in /usr/local/lib/python3.7/dist-packages (from bokeh->livelossplot==0.5.2) (21.0)\n",
            "Requirement already satisfied: pillow>=7.1.0 in /usr/local/lib/python3.7/dist-packages (from bokeh->livelossplot==0.5.2) (7.1.2)\n",
            "Requirement already satisfied: Jinja2>=2.9 in /usr/local/lib/python3.7/dist-packages (from bokeh->livelossplot==0.5.2) (2.11.3)\n",
            "Requirement already satisfied: MarkupSafe>=0.23 in /usr/local/lib/python3.7/dist-packages (from Jinja2>=2.9->bokeh->livelossplot==0.5.2) (2.0.1)\n",
            "Requirement already satisfied: pyparsing>=2.0.2 in /usr/local/lib/python3.7/dist-packages (from packaging>=16.8->bokeh->livelossplot==0.5.2) (2.4.7)\n",
            "Requirement already satisfied: six>=1.5 in /usr/local/lib/python3.7/dist-packages (from python-dateutil>=2.1->bokeh->livelossplot==0.5.2) (1.15.0)\n",
            "Requirement already satisfied: decorator in /usr/local/lib/python3.7/dist-packages (from ipython->livelossplot==0.5.2) (4.4.2)\n",
            "Requirement already satisfied: simplegeneric>0.8 in /usr/local/lib/python3.7/dist-packages (from ipython->livelossplot==0.5.2) (0.8.1)\n",
            "Requirement already satisfied: traitlets>=4.2 in /usr/local/lib/python3.7/dist-packages (from ipython->livelossplot==0.5.2) (5.0.5)\n",
            "Requirement already satisfied: pexpect in /usr/local/lib/python3.7/dist-packages (from ipython->livelossplot==0.5.2) (4.8.0)\n",
            "Requirement already satisfied: pygments in /usr/local/lib/python3.7/dist-packages (from ipython->livelossplot==0.5.2) (2.6.1)\n",
            "Requirement already satisfied: pickleshare in /usr/local/lib/python3.7/dist-packages (from ipython->livelossplot==0.5.2) (0.7.5)\n",
            "Requirement already satisfied: prompt-toolkit<2.0.0,>=1.0.4 in /usr/local/lib/python3.7/dist-packages (from ipython->livelossplot==0.5.2) (1.0.18)\n",
            "Requirement already satisfied: setuptools>=18.5 in /usr/local/lib/python3.7/dist-packages (from ipython->livelossplot==0.5.2) (57.4.0)\n",
            "Requirement already satisfied: wcwidth in /usr/local/lib/python3.7/dist-packages (from prompt-toolkit<2.0.0,>=1.0.4->ipython->livelossplot==0.5.2) (0.2.5)\n",
            "Requirement already satisfied: ipython-genutils in /usr/local/lib/python3.7/dist-packages (from traitlets>=4.2->ipython->livelossplot==0.5.2) (0.2.0)\n",
            "Requirement already satisfied: kiwisolver>=1.0.1 in /usr/local/lib/python3.7/dist-packages (from matplotlib->livelossplot==0.5.2) (1.3.1)\n",
            "Requirement already satisfied: cycler>=0.10 in /usr/local/lib/python3.7/dist-packages (from matplotlib->livelossplot==0.5.2) (0.10.0)\n",
            "Requirement already satisfied: ptyprocess>=0.5 in /usr/local/lib/python3.7/dist-packages (from pexpect->ipython->livelossplot==0.5.2) (0.7.0)\n"
          ],
          "name": "stdout"
        }
      ]
    },
    {
      "cell_type": "code",
      "metadata": {
        "id": "BZ_zXOLJ3pyA"
      },
      "source": [
        "from tensorflow.keras import Model, Input\n",
        "from tensorflow.keras.layers import LSTM, Embedding, Dense\n",
        "from tensorflow.keras.layers import TimeDistributed, SpatialDropout1D, Bidirectional\n",
        "from tensorflow.keras.callbacks import ModelCheckpoint, EarlyStopping\n",
        "# from livelossplot.tf_keras import PlotLossesCallback\n",
        "from livelossplot.inputs.tf_keras import PlotLossesCallback"
      ],
      "execution_count": 10,
      "outputs": []
    },
    {
      "cell_type": "markdown",
      "metadata": {
        "id": "-IdqVa2yAj0f"
      },
      "source": [
        "# Network Architecture\n",
        "\n"
      ]
    },
    {
      "cell_type": "markdown",
      "metadata": {
        "id": "0rpvk515AOCW"
      },
      "source": [
        "![2018-10-21_A_bi-LSTM-CRF_model.png](data:image/png;base64,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)"
      ]
    },
    {
      "cell_type": "markdown",
      "metadata": {
        "id": "VGZ_myi9CnJr"
      },
      "source": [
        "## **Build Network**"
      ]
    },
    {
      "cell_type": "code",
      "metadata": {
        "colab": {
          "base_uri": "https://localhost:8080/"
        },
        "id": "Z71ZtOZdAvYu",
        "outputId": "b90dfd1b-4e1a-4458-ad3f-bd4a9279d36d"
      },
      "source": [
        "input_word = Input(shape=(max_len,))\n",
        "model = Embedding(input_dim=num_words, output_dim=max_len, input_length=max_len)(input_word)\n",
        "model = SpatialDropout1D(0.2)(model)\n",
        "model = Bidirectional(LSTM(units=200, return_sequences=True, recurrent_dropout=0.3))(model)\n",
        "out   = TimeDistributed(Dense(num_label, activation=\"softmax\"))(model)\n",
        "model = Model(input_word, out)\n",
        "model.summary()"
      ],
      "execution_count": 11,
      "outputs": [
        {
          "output_type": "stream",
          "text": [
            "Model: \"model\"\n",
            "_________________________________________________________________\n",
            "Layer (type)                 Output Shape              Param #   \n",
            "=================================================================\n",
            "input_1 (InputLayer)         [(None, 50)]              0         \n",
            "_________________________________________________________________\n",
            "embedding (Embedding)        (None, 50, 50)            1181200   \n",
            "_________________________________________________________________\n",
            "spatial_dropout1d (SpatialDr (None, 50, 50)            0         \n",
            "_________________________________________________________________\n",
            "bidirectional (Bidirectional (None, 50, 400)           401600    \n",
            "_________________________________________________________________\n",
            "time_distributed (TimeDistri (None, 50, 9)             3609      \n",
            "=================================================================\n",
            "Total params: 1,586,409\n",
            "Trainable params: 1,586,409\n",
            "Non-trainable params: 0\n",
            "_________________________________________________________________\n"
          ],
          "name": "stdout"
        }
      ]
    },
    {
      "cell_type": "markdown",
      "metadata": {
        "id": "_QMslMIhbLEb"
      },
      "source": [
        "Embedings Layer : Turns give  intege (indexes) into dense vectors of fixed size.\n",
        "e.g. [[4], [20]] -> [[0.25, 0.1], [0.6, -0.2]]\n",
        "\n",
        "SpatialDropout1D : If the feature maps are strongly correlated then regular dropout will not regularize the activations and will otherwise just result in an effective learning rate decrease\n",
        "\n",
        "\n",
        "Bidirectional(LSTM) : It is Bidirectional LSTM Layer\n",
        "\n",
        "\n",
        "TimeDistributed    : It allows to use a layer for each input. That means that instead of having several input “models”, we can use “one model” applied to each input\n",
        "\n",
        "\n",
        "Below We are using the  EarlyStopping with few callback so that we don’t need to hard code the number of epochs. If our network doesn’t improve for 2 consecutive epochs,i.e. validation loss is not decreased we are going to stop our training process. That is the meaning of patience.\n",
        "\n",
        "\n",
        "\n",
        "\n"
      ]
    },
    {
      "cell_type": "markdown",
      "metadata": {
        "id": "zEa1yaegKTzN"
      },
      "source": [
        "## **Model Train**"
      ]
    },
    {
      "cell_type": "code",
      "metadata": {
        "id": "cMguW-ny9R9F"
      },
      "source": [
        "model.compile(optimizer=\"adam\",loss=\"sparse_categorical_crossentropy\",metrics=[\"accuracy\"])"
      ],
      "execution_count": 12,
      "outputs": []
    },
    {
      "cell_type": "code",
      "metadata": {
        "colab": {
          "base_uri": "https://localhost:8080/",
          "height": 721
        },
        "id": "lnL4hwTf9R_t",
        "outputId": "3c822113-1efc-4e4e-80ba-29421a1aef22"
      },
      "source": [
        "chkpt          = ModelCheckpoint(\"model_weights.h5\", monitor='val_loss',verbose=1, save_best_only=True, save_weights_only=True, mode='min')\n",
        "early_stopping = EarlyStopping(monitor='val_accuracy', min_delta=0, patience=2, verbose=0, mode='max', baseline=None, restore_best_weights=False)\n",
        "callbacks      = [PlotLossesCallback(), chkpt, early_stopping]\n",
        "history        = model.fit(x=x_train,y=y_train,validation_data=(x_test,y_test),batch_size=32,epochs=5,callbacks=callbacks,verbose=1)"
      ],
      "execution_count": 13,
      "outputs": [
        {
          "output_type": "display_data",
          "data": {
            "image/png": "[encoded data removed]",
            "text/plain": [
              "<Figure size 864x576 with 2 Axes>"
            ]
          },
          "metadata": {
            "needs_background": "light"
          }
        },
        {
          "output_type": "stream",
          "text": [
            "accuracy\n",
            "\ttraining         \t (min:    0.951, max:    0.995, cur:    0.995)\n",
            "\tvalidation       \t (min:    0.963, max:    0.990, cur:    0.990)\n",
            "Loss\n",
            "\ttraining         \t (min:    0.020, max:    0.228, cur:    0.020)\n",
            "\tvalidation       \t (min:    0.039, max:    0.115, cur:    0.039)\n",
            "\n",
            "Epoch 00005: val_loss improved from 0.04768 to 0.03945, saving model to model_weights.h5\n"
          ],
          "name": "stdout"
        }
      ]
    },
    {
      "cell_type": "code",
      "metadata": {
        "colab": {
          "base_uri": "https://localhost:8080/"
        },
        "id": "PHkARCkskfdL",
        "outputId": "ec0a7900-722e-4a67-b884-2039b9b9306b"
      },
      "source": [
        "model.evaluate(x_test, y_test)"
      ],
      "execution_count": 14,
      "outputs": [
        {
          "output_type": "stream",
          "text": [
            "88/88 [==============================] - 5s 57ms/step - loss: 0.0394 - accuracy: 0.9898\n"
          ],
          "name": "stdout"
        },
        {
          "output_type": "execute_result",
          "data": {
            "text/plain": [
              "[0.03944801539182663, 0.9898255467414856]"
            ]
          },
          "metadata": {},
          "execution_count": 14
        }
      ]
    },
    {
      "cell_type": "markdown",
      "metadata": {
        "id": "SyNgjZvlnlOB"
      },
      "source": [
        "[0.03944801539182663, 0.9898255467414856]\n",
        "\n",
        "first value in the above list represents loss which is 0.04\n",
        "\n",
        "second value in the above list represents accuracy which is 0.98"
      ]
    },
    {
      "cell_type": "markdown",
      "metadata": {
        "id": "p5BBxbhyl8Be"
      },
      "source": [
        "# Model Predictions on the DataSet"
      ]
    },
    {
      "cell_type": "markdown",
      "metadata": {
        "id": "M35Z04rXvdIY"
      },
      "source": [
        "**Load and Preprocess**"
      ]
    },
    {
      "cell_type": "code",
      "metadata": {
        "id": "gNVkmf-0khC7"
      },
      "source": [
        "test_util        = Utility(test_file_path,test_tag_file_path)\n",
        "test_texts,test_tags = test_util.load_input_train_files()\n",
        "test_data       = test_util.get_Prep_Dataframe(test_texts,test_tags)\n",
        "test_sentences  = test_util.prep_ListOf_Tuplesof_TokenTags(data.copy())\n",
        "max_len = 50"
      ],
      "execution_count": 15,
      "outputs": []
    },
    {
      "cell_type": "markdown",
      "metadata": {
        "id": "yXVQufWXvnU4"
      },
      "source": [
        "**Convert to Model Input format**"
      ]
    },
    {
      "cell_type": "code",
      "metadata": {
        "colab": {
          "base_uri": "https://localhost:8080/"
        },
        "id": "mxpeG2g8laF5",
        "outputId": "099c7374-9124-4542-8235-c1a390c88791"
      },
      "source": [
        "X_text_test= [[word2idx[w[0]] for w in s] for s in test_sentences]\n",
        "X_test = pad_sequences(maxlen=max_len, sequences=X_text_test, padding=\"post\", value=num_words-1)\n",
        "y_text_test = [[label2idx[w[1]] for w in s] for s in test_sentences]\n",
        "y_test = pad_sequences(maxlen=max_len, sequences=y_text_test, padding=\"post\", value=label2idx[\"O\"])\n",
        "\n",
        "\n",
        "model.evaluate(X_test, y_test)"
      ],
      "execution_count": 47,
      "outputs": [
        {
          "output_type": "stream",
          "text": [
            "439/439 [==============================] - 25s 58ms/step - loss: 0.0168 - accuracy: 0.9958\n"
          ],
          "name": "stdout"
        },
        {
          "output_type": "execute_result",
          "data": {
            "text/plain": [
              "[0.01679106429219246, 0.995830774307251]"
            ]
          },
          "metadata": {},
          "execution_count": 47
        }
      ]
    },
    {
      "cell_type": "markdown",
      "metadata": {
        "id": "sv1LVl2qvxJ9"
      },
      "source": [
        "**Generate Predictions**"
      ]
    },
    {
      "cell_type": "code",
      "metadata": {
        "id": "tfpHHHvWkhFh"
      },
      "source": [
        "preds = model.predict(X_test)\n",
        "preds = np.argmax(preds, axis=-1)"
      ],
      "execution_count": 19,
      "outputs": []
    },
    {
      "cell_type": "code",
      "metadata": {
        "id": "b0YYF8c_8Dku"
      },
      "source": [
        "out = []\n",
        "for pred_i in pred:\n",
        "    out_i = []\n",
        "    for p in pred_i:\n",
        "        p_i = np.argmax(p)\n",
        "        out_i.append(idx2tag[p_i].replace(\"PAD\", \"O\"))\n",
        "    out.append(out_i)"
      ],
      "execution_count": null,
      "outputs": []
    },
    {
      "cell_type": "code",
      "metadata": {
        "id": "Nm7OhxyT7rEd"
      },
      "source": [
        "print(classification_report(test_labels, preds))"
      ],
      "execution_count": null,
      "outputs": []
    },
    {
      "cell_type": "markdown",
      "metadata": {
        "id": "OwZfTlJWx9mn"
      },
      "source": [
        "Let us now visualize and understand how the prediction are coming upon  the actual text and the tags\n",
        "\n",
        "We expecte the predicted tags should be equal to the actual tag of a particular token\n"
      ]
    },
    {
      "cell_type": "code",
      "metadata": {
        "colab": {
          "base_uri": "https://localhost:8080/"
        },
        "id": "YrZezQzzwHrY",
        "outputId": "d7c01a37-e1b6-4f90-ee6a-0138ff37cd9e"
      },
      "source": [
        "print(\"{:15}{:5}\\t {}\\n\".format(\"Word\", \"True\", \"Pred\"))\n",
        "print(\"-\" *30)\n",
        "for w, true, pred in zip(test_sentences[0], y_test[0], preds[0]):\n",
        "    print(\"{:15}{}\\t{}\".format(w[0], labels[true], labels[pred]))\n"
      ],
      "execution_count": 91,
      "outputs": [
        {
          "output_type": "stream",
          "text": [
            "Word           True \t Pred\n",
            "\n",
            "------------------------------\n",
            "EU             B-ORG\tB-ORG\n",
            "rejects        O\tO\n",
            "German         B-MISC\tB-MISC\n",
            "call           O\tO\n",
            "to             O\tO\n",
            "boycott        O\tO\n",
            "British        B-MISC\tB-MISC\n",
            "lamb           O\tO\n",
            ".              O\tO\n"
          ],
          "name": "stdout"
        }
      ]
    },
    {
      "cell_type": "code",
      "metadata": {
        "id": "xGTgSdfT-x_p"
      },
      "source": [
        ""
      ],
      "execution_count": null,
      "outputs": []
    },
    {
      "cell_type": "code",
      "metadata": {
        "id": "sBYhCrOi-yCH"
      },
      "source": [
        ""
      ],
      "execution_count": null,
      "outputs": []
    },
    {
      "cell_type": "code",
      "metadata": {
        "id": "thn3Wce7-yD5"
      },
      "source": [
        ""
      ],
      "execution_count": null,
      "outputs": []
    },
    {
      "cell_type": "code",
      "metadata": {
        "id": "3VFMUK-4-yHL"
      },
      "source": [
        ""
      ],
      "execution_count": null,
      "outputs": []
    },
    {
      "cell_type": "code",
      "metadata": {
        "id": "uOm-WyO0sOFI"
      },
      "source": [
        "# for index in range(10000):\n",
        "#   total_uniq_list = []\n",
        "#   uniq_text_list =  []\n",
        "#   for i in next(file_1).split():\n",
        "\n",
        "#     if i not in uniq_text_list:\n",
        "#       uniq_text_list.append(i)\n",
        "#       total_uniq_list.append(i)\n",
        "\n",
        "#   uniq_tags_list =  [] \n",
        "#   for i in next(file_2).split():\n",
        "#     if i not in uniq_tags_list:\n",
        "#       uniq_tags_list.append(i)\n",
        "#       total_uniq_list.append(i)\n",
        "\n",
        "\n"
      ],
      "execution_count": null,
      "outputs": []
    }
  ]
}